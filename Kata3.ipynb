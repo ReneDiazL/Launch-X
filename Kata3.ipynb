{
 "cells": [
  {
   "cell_type": "markdown",
   "metadata": {},
   "source": [
    "# Problema 1  \n",
    "Añadir el código necesario para crear una variable que guarde la velocidad del asteroide.\n",
    "Escribe una expresión de prueba para calcular si necesita una advertencia.\n",
    "Agregue las instrucciones que se ejecutarán si la expresión de prueba es true o false."
   ]
  },
  {
   "cell_type": "code",
   "execution_count": 2,
   "metadata": {},
   "outputs": [
    {
     "name": "stdout",
     "output_type": "stream",
     "text": [
      "Advertencia, asteroide se aproxima\n"
     ]
    }
   ],
   "source": [
    "velocidad_asteroide = 49\n",
    "if velocidad_asteroide >= 20:\n",
    "    print (\"Advertencia, asteroide se aproxima\")\n",
    "else:\n",
    "    print(\"Mira el asteroide\")\n"
   ]
  },
  {
   "cell_type": "code",
   "execution_count": 4,
   "metadata": {},
   "outputs": [
    {
     "name": "stdout",
     "output_type": "stream",
     "text": [
      "Mira el asteroide\n"
     ]
    }
   ],
   "source": [
    "velocidad_asteroide = 20\n",
    "if velocidad_asteroide > 25:\n",
    "    print (\"Advertencia, asteroide se aproxima\")\n",
    "else:\n",
    "    print(\"Mira el asteroide\")"
   ]
  },
  {
   "cell_type": "markdown",
   "metadata": {},
   "source": [
    "# Problema 2\n",
    "Agrega el código para crear una variable para un asteroide que viaja a 19 km/s\n",
    "Escribe varias expresiones de prueba para determinar si puedes ver el rayo de luz desde la tierra\n",
    "Agrega las instrucciones que se ejecutarán si las expresiones de prueba son True o False"
   ]
  },
  {
   "cell_type": "code",
   "execution_count": 6,
   "metadata": {},
   "outputs": [
    {
     "name": "stdout",
     "output_type": "stream",
     "text": [
      "No se observa nada\n"
     ]
    }
   ],
   "source": [
    "velocidad_asteroide = 19\n",
    "if velocidad_asteroide > 20:\n",
    "    print(\"Mira la luz\")\n",
    "elif velocidad_asteroide == 20:\n",
    "    print(\"Mira la luz\")\n",
    "else:\n",
    "    print(\"No se observa nada\")"
   ]
  },
  {
   "cell_type": "markdown",
   "metadata": {},
   "source": [
    "# Problema 3\n",
    "Agrega el código para crear nuevas variables para la velocidad y el tamaño del asteroide\n",
    "Para probar el código, prueba con varias velocidades y tamaños\n",
    "Escribe varias expresiones de prueba o combinaciones de expresiones de prueba para determinar qué mensaje se debe enviar a Tierra."
   ]
  },
  {
   "cell_type": "code",
   "execution_count": 9,
   "metadata": {},
   "outputs": [
    {
     "name": "stdout",
     "output_type": "stream",
     "text": [
      "Mira la luz\n"
     ]
    }
   ],
   "source": [
    "velocidad_asteroide = 25\n",
    "volumen_asteroide = 40\n",
    "if velocidad_asteroide > 25 and volumen_asteroide > 25:\n",
    "    print(\"Advertencia, asteroide se aproxima\")\n",
    "elif velocidad_asteroide >= 20:\n",
    "    print(\"Mira la luz\")\n",
    "elif volumen_asteroide < 25:\n",
    "    print(\"No se observa nada\")\n",
    "else:\n",
    "    print(\"No se observa nada\")"
   ]
  },
  {
   "cell_type": "code",
   "execution_count": 10,
   "metadata": {},
   "outputs": [
    {
     "name": "stdout",
     "output_type": "stream",
     "text": [
      "Advertencia, asteroide se aproxima\n"
     ]
    }
   ],
   "source": [
    "velocidad_asteroide = 26\n",
    "volumen_asteroide = 40\n",
    "if velocidad_asteroide > 25 and volumen_asteroide > 25:\n",
    "    print(\"Advertencia, asteroide se aproxima\")\n",
    "elif velocidad_asteroide >= 20:\n",
    "    print(\"Mira la luz\")\n",
    "elif volumen_asteroide < 25:\n",
    "    print(\"No se observa nada\")\n",
    "else:\n",
    "    print(\"No se observa nada\")"
   ]
  },
  {
   "cell_type": "code",
   "execution_count": 21,
   "metadata": {},
   "outputs": [
    {
     "name": "stdout",
     "output_type": "stream",
     "text": [
      "No se observa nada\n"
     ]
    }
   ],
   "source": [
    "velocidad_asteroide = 18\n",
    "volumen_asteroide = 20\n",
    "if velocidad_asteroide > 25 and volumen_asteroide > 25:\n",
    "    print(\"Advertencia, asteroide se aproxima\")\n",
    "elif velocidad_asteroide >= 20:\n",
    "    print(\"Mira la luz\")\n",
    "elif volumen_asteroide < 25:\n",
    "    print(\"No se observa nada\")\n",
    "else:\n",
    "    print(\"No se observa nada\")"
   ]
  }
 ],
 "metadata": {
  "interpreter": {
   "hash": "081837b0d89a1a11c7e12cfb777b4296fc9d5cdb4add819a1b66bd9acaab463f"
  },
  "kernelspec": {
   "display_name": "Python 3.10.2 64-bit",
   "language": "python",
   "name": "python3"
  },
  "language_info": {
   "codemirror_mode": {
    "name": "ipython",
    "version": 3
   },
   "file_extension": ".py",
   "mimetype": "text/x-python",
   "name": "python",
   "nbconvert_exporter": "python",
   "pygments_lexer": "ipython3",
   "version": "3.10.2"
  },
  "orig_nbformat": 4
 },
 "nbformat": 4,
 "nbformat_minor": 2
}
