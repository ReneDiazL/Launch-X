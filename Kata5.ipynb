{
 "cells": [
  {
   "cell_type": "markdown",
   "source": [
    "# Ejercicio1 - Utilizar operadores aritméticos\n",
    "        Operadores aritméticos en Python"
   ],
   "metadata": {}
  },
  {
   "cell_type": "markdown",
   "source": [
    "Exploremos cómo podemos crear un programa que pueda calcular la distancia entre dos planetas. Comenzaremos usando dos distancias de planetas: \n",
    "    \n",
    "    Tierra (149.597.870 km) y \n",
    "    Júpiter (778.547.200 km)."
   ],
   "metadata": {}
  },
  {
   "cell_type": "code",
   "execution_count": 25,
   "source": [
    "Tierra = 149597870\r\n",
    "Jupiter = 778547200"
   ],
   "outputs": [],
   "metadata": {}
  },
  {
   "cell_type": "markdown",
   "source": [
    "# Realizar la operación\n",
    "    \n",
    "    Con los valores obtenidos, es el momento de añadir el código para realizar la operación. Restarás el primer planeta del segundo para determinar la distancia en kilómetros. A continuación, puedes convertir la distancia del kilómetro en millas multiplicándola por 0.621."
   ],
   "metadata": {}
  },
  {
   "cell_type": "code",
   "execution_count": 26,
   "source": [
    "Distancia_Planetas = Jupiter - Tierra \r\n",
    "print(\"La distancia entre la Tierra y Júpiter es: \", Distancia_Planetas, \"Km.\") \r\n",
    "\r\n",
    "print(\"La distancia entre la Tierra y Júpiter es: \", Distancia_Planetas*0.621, \"millas.\") "
   ],
   "outputs": [
    {
     "output_type": "stream",
     "name": "stdout",
     "text": [
      "La distancia entre la Tierra y Júpiter es:  628949330 Km.\n",
      "La distancia entre la Tierra y Júpiter es:  390577533.93 millas.\n"
     ]
    }
   ],
   "metadata": {}
  },
  {
   "cell_type": "markdown",
   "source": [
    "# Ejercicio 2: convierte cadenas en números y usa valores absolutos\n",
    "\n",
    "    Crear una aplicación para trabajar con números y entrada de usuario"
   ],
   "metadata": {}
  },
  {
   "cell_type": "markdown",
   "source": [
    "Para crear nuestra aplicación, queremos leer la distancia del sol para dos planetas, y luego mostrar la distancia entre los planetas. Haremos esto usando input para leer los valores, int para convertir a entero y luego abs para convertir el resultado en su valor absoluto."
   ],
   "metadata": {}
  },
  {
   "cell_type": "code",
   "execution_count": 27,
   "source": [
    "Planeta1 = input('Introduzca la distancia del sol para el primer planeta en KM')\r\n",
    "Planeta2 = input('Introduzca la distancia del sol para el segundo planeta en KM')\r\n",
    "\r\n",
    "Planeta1 = int(Planeta1)\r\n",
    "Planeta2= int(Planeta2)\r\n",
    "\r\n",
    "Distancia_Planetas = Planeta2 - Planeta1 \r\n",
    "\r\n",
    "print(\"La distancia entre la Tierra y Júpiter es: \", Distancia_Planetas, \"km.\") \r\n",
    "print(\"La distancia entre la Tierra y Júpiter es: \", (abs(Distancia_Planetas*0.621)), \"millas.\") "
   ],
   "outputs": [
    {
     "output_type": "stream",
     "name": "stdout",
     "text": [
      "La distancia entre la Tierra y Júpiter es:  2644600000 km.\n",
      "La distancia entre la Tierra y Júpiter es:  1642296600.0 millas.\n"
     ]
    }
   ],
   "metadata": {}
  }
 ],
 "metadata": {
  "interpreter": {
   "hash": "081837b0d89a1a11c7e12cfb777b4296fc9d5cdb4add819a1b66bd9acaab463f"
  },
  "kernelspec": {
   "name": "python3",
   "display_name": "Python 3.10.2 64-bit"
  },
  "language_info": {
   "codemirror_mode": {
    "name": "ipython",
    "version": 3
   },
   "file_extension": ".py",
   "mimetype": "text/x-python",
   "name": "python",
   "nbconvert_exporter": "python",
   "pygments_lexer": "ipython3",
   "version": "3.10.2"
  },
  "orig_nbformat": 4
 },
 "nbformat": 4,
 "nbformat_minor": 2
}