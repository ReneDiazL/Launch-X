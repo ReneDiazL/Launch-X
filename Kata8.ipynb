{
 "cells": [
  {
   "cell_type": "markdown",
   "source": [
    "\r\n",
    "# Ejercicio 1: Creación de diccionarios de Python\r\n",
    "\r\n",
    "Los diccionarios python te permiten modelar datos más complejos. Los diccionarios son una colección de pares clave/valor, y son muy comunes en los programas Python. Su flexibilidad le permite trabajar dinámicamente con valores relacionados sin tener que crear clases u objetos.\r\n",
    "\r\n",
    "Un diccionario se indica en Python mediante el uso de llaves ({ }), con pares clave/valor separados por dos puntos (:). Las claves son literales de cadena y los valores pueden ser de cualquier tipo de datos.{ }:"
   ],
   "metadata": {}
  },
  {
   "cell_type": "code",
   "execution_count": 71,
   "source": [
    "demo = {\r\n",
    "    'key': 'value',\r\n",
    "    'number': 42\r\n",
    "}"
   ],
   "outputs": [],
   "metadata": {}
  },
  {
   "cell_type": "markdown",
   "source": [
    "Para este ejercicio, crearás un diccionario que almacene información sobre el planeta Marte.\r\n",
    "\r\n",
    "Agrega el código para crear un nuevo diccionario denominado 'planet'. Rellena con la siguiente información:"
   ],
   "metadata": {}
  },
  {
   "cell_type": "code",
   "execution_count": 72,
   "source": [
    "planet = {\r\n",
    "    \"nombre\": \"Marte\",\r\n",
    "    \"lunas\": 2\r\n",
    "}"
   ],
   "outputs": [],
   "metadata": {}
  },
  {
   "cell_type": "markdown",
   "source": [
    "\r\n",
    "Para recuperar valores, puede utilizar el método get o corchetes ([ ]) con el nombre de la clave que desea recuperar.\r\n"
   ],
   "metadata": {}
  },
  {
   "cell_type": "markdown",
   "source": [
    "*Utilzando corchetes*"
   ],
   "metadata": {}
  },
  {
   "cell_type": "code",
   "execution_count": 73,
   "source": [
    "print(f'{planet[\"nombre\"]} tiene {planet[\"lunas\"]} lunas')"
   ],
   "outputs": [
    {
     "output_type": "stream",
     "name": "stdout",
     "text": [
      "Marte tiene 2 lunas\n"
     ]
    }
   ],
   "metadata": {}
  },
  {
   "cell_type": "markdown",
   "source": [
    "*Utilizando GET*"
   ],
   "metadata": {}
  },
  {
   "cell_type": "code",
   "execution_count": 74,
   "source": [
    "print(planet.get(\"nombre\"), \"tiene\", planet.get(\"lunas\"), \"lunas\")"
   ],
   "outputs": [
    {
     "output_type": "stream",
     "name": "stdout",
     "text": [
      "Marte tiene 2 lunas\n"
     ]
    }
   ],
   "metadata": {}
  },
  {
   "cell_type": "markdown",
   "source": [
    "Puedes actualizar las claves existentes o crear otras nuevas utilizando el método update o entre corchetes ([ ]). Cuando se usa update, se pasa un nuevo objeto de diccionario con los valores actualizados o nuevos. Cuando se usan corchetes, se especifica el nombre de la clave y se asigna un nuevo valor."
   ],
   "metadata": {}
  },
  {
   "cell_type": "code",
   "execution_count": 75,
   "source": [
    "demo['new_key'] = 'New value'"
   ],
   "outputs": [],
   "metadata": {}
  },
  {
   "cell_type": "markdown",
   "source": [
    "Agrega un nuevo valor con una clave de 'circunferencia (km)'. Este nuevo valor debería almacenar un diccionario con las dos circunferencias del planeta:"
   ],
   "metadata": {}
  },
  {
   "cell_type": "code",
   "execution_count": 76,
   "source": [
    "planet[\"circunferencia en km\"] = {\r\n",
    "    \"polar\": 6752,\r\n",
    "    \"equatorial\": 6792\r\n",
    "}"
   ],
   "outputs": [],
   "metadata": {}
  },
  {
   "cell_type": "markdown",
   "source": [
    "\r\n",
    "\r\n",
    "Imprime el nombre del planeta con su circunferencia polar. \r\n",
    "\r\n",
    "# Utilizando corchetes\r\n"
   ],
   "metadata": {}
  },
  {
   "cell_type": "code",
   "execution_count": 77,
   "source": [
    "print(f'{planet[\"nombre\"]} tiene una circunferencia polar de {planet[\"circunferencia en km\"][\"polar\"]}')"
   ],
   "outputs": [
    {
     "output_type": "stream",
     "name": "stdout",
     "text": [
      "Marte tiene una circunferencia polar de 6752\n"
     ]
    }
   ],
   "metadata": {}
  },
  {
   "cell_type": "markdown",
   "source": [
    "\r\n",
    "# Utilizando Get"
   ],
   "metadata": {}
  },
  {
   "cell_type": "code",
   "execution_count": 78,
   "source": [
    "print(planet.get(\"nombre\"), \"tiene una circunferencia polar de \", planet[\"circunferencia en km\"].get(\"polar\"))"
   ],
   "outputs": [
    {
     "output_type": "stream",
     "name": "stdout",
     "text": [
      "Marte tiene una circunferencia polar de  6752\n"
     ]
    }
   ],
   "metadata": {}
  },
  {
   "cell_type": "markdown",
   "source": [
    "\r\n",
    "# Ejercicio 2: Programación dinámica con diccionarios\r\n",
    "\r\n",
    "Cálculo de valores\r\n",
    "|\r\n",
    "En este escenario, calcularás tanto el número total de lunas en el sistema solar como el número promedio de lunas que tiene un planeta.\r\n"
   ],
   "metadata": {}
  },
  {
   "cell_type": "code",
   "execution_count": 79,
   "source": [
    "\r\n",
    "lunas_x_planeta = {\r\n",
    "    \"Mercurio\": 0,\r\n",
    "    \"Venus\": 0,\r\n",
    "    \"Tierra\": 1,\r\n",
    "    \"Marte\": 2,\r\n",
    "    \"Jupiter\": 79,\r\n",
    "    \"Saturno\": 82,\r\n",
    "    \"Urano\": 27,\r\n",
    "    \"Neptuno\": 14,\r\n",
    "    \"Pluton\": 5,\r\n",
    "    \"Haumea\": 2,\r\n",
    "    \"Makemake\": 1,\r\n",
    "}"
   ],
   "outputs": [],
   "metadata": {}
  },
  {
   "cell_type": "markdown",
   "source": [
    "Agrega el código a continuación para determinar el número de lunas. Comienza almacenando el valor values de lunas_x_planeta en una variable denominada lunas. A continuación, almacena el número de planetas en una variable denominada planets."
   ],
   "metadata": {}
  },
  {
   "cell_type": "code",
   "execution_count": 80,
   "source": [
    "lunas = lunas_x_planeta.values()\r\n",
    "\r\n",
    "planets = len(lunas_x_planeta.keys())"
   ],
   "outputs": [],
   "metadata": {}
  },
  {
   "cell_type": "markdown",
   "source": [
    "\r\n",
    "\r\n",
    "Agrega el código para contar el número de lunas. Puedes hacerlo creando un ciclo for para iterar a través de las lunas y agregándolos a una variable denominada total_lunas. Finalmente calcule el promedio dividiendo total_lunas por planets e imprimiendo los resultados.\r\n"
   ],
   "metadata": {}
  },
  {
   "cell_type": "code",
   "execution_count": 81,
   "source": [
    "total_lunas = 0\r\n",
    "for luna in lunas:\r\n",
    "    total_lunas = total_lunas + luna\r\n",
    "\r\n",
    "average = total_lunas / planets"
   ],
   "outputs": [],
   "metadata": {}
  },
  {
   "cell_type": "code",
   "execution_count": 82,
   "source": [
    "print(average)"
   ],
   "outputs": [
    {
     "output_type": "stream",
     "name": "stdout",
     "text": [
      "19.363636363636363\n"
     ]
    }
   ],
   "metadata": {}
  }
 ],
 "metadata": {
  "orig_nbformat": 4,
  "language_info": {
   "name": "python",
   "version": "3.10.2",
   "mimetype": "text/x-python",
   "codemirror_mode": {
    "name": "ipython",
    "version": 3
   },
   "pygments_lexer": "ipython3",
   "nbconvert_exporter": "python",
   "file_extension": ".py"
  },
  "kernelspec": {
   "name": "python3",
   "display_name": "Python 3.10.2 64-bit"
  },
  "interpreter": {
   "hash": "081837b0d89a1a11c7e12cfb777b4296fc9d5cdb4add819a1b66bd9acaab463f"
  }
 },
 "nbformat": 4,
 "nbformat_minor": 2
}