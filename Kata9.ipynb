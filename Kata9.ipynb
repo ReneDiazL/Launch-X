{
 "cells": [
  {
   "cell_type": "markdown",
   "metadata": {},
   "source": [
    "\n",
    "# Ejercicio: Uso de funciones en Python\n"
   ]
  },
  {
   "cell_type": "markdown",
   "metadata": {},
   "source": [
    "Ejercicio 1: Trabajar con argumentos en funciones"
   ]
  },
  {
   "cell_type": "markdown",
   "metadata": {},
   "source": [
    "Comienza por crear una función que necesite tres lecturas de combustible y devuelva un informe:"
   ]
  },
  {
   "cell_type": "code",
   "execution_count": 1,
   "metadata": {},
   "outputs": [],
   "source": [
    "def Reporte(Magna, Premium, Diesel):\n",
    "    Promedio_total = (Magna + Premium + Diesel) / 3\n",
    "    return f\"\"\"Reporte Global:\n",
    "    Promedio Total: {Promedio_total}%\n",
    "    Magna: {Magna}%\n",
    "    Premium: {Premium}%\n",
    "    Diesel: {Diesel}% \n",
    "    \"\"\""
   ]
  },
  {
   "cell_type": "markdown",
   "metadata": {},
   "source": [
    "\n",
    "\n",
    "Ahora que hemos definido la función de informes, vamos a comprobarlo. Para esta misión, los tanques no están llenos:\n"
   ]
  },
  {
   "cell_type": "code",
   "execution_count": 2,
   "metadata": {},
   "outputs": [
    {
     "name": "stdout",
     "output_type": "stream",
     "text": [
      "Reporte Global:\n",
      "    Promedio Total: 78.33333333333333%\n",
      "    Magna: 80%\n",
      "    Premium: 70%\n",
      "    Diesel: 85% \n",
      "    \n"
     ]
    }
   ],
   "source": [
    "print(Reporte(80, 70, 85))"
   ]
  },
  {
   "cell_type": "markdown",
   "metadata": {},
   "source": [
    "\n",
    "\n",
    "En lugar de simplemente crear el informe, la función también está calculando el promedio. Mejora la legibilidad extrayendo el cálculo promedio de la función en una nueva función para que el promedio se pueda hacer de forma independiente:\n"
   ]
  },
  {
   "cell_type": "code",
   "execution_count": 4,
   "metadata": {},
   "outputs": [
    {
     "data": {
      "text/plain": [
       "82.0"
      ]
     },
     "execution_count": 4,
     "metadata": {},
     "output_type": "execute_result"
    }
   ],
   "source": [
    "def average(values):\n",
    "    total = sum(values)\n",
    "    number_of_items = len(values)\n",
    "    return total / number_of_items\n",
    "\n",
    "average([80, 85, 81]) "
   ]
  },
  {
   "cell_type": "markdown",
   "metadata": {},
   "source": [
    "\n",
    "\n",
    "Ahora actualiza la función de informes para llamando a la nueva función del promedio:\n"
   ]
  },
  {
   "cell_type": "code",
   "execution_count": 5,
   "metadata": {},
   "outputs": [
    {
     "name": "stdout",
     "output_type": "stream",
     "text": [
      "Reporte Global:\n",
      "    Promedio Total: 78.0%\n",
      "    Magna: 88%\n",
      "    Premium: 76%\n",
      "    Diesel: 70% \n",
      "    \n"
     ]
    }
   ],
   "source": [
    "def Reporte(Magna, Premium, Diesel):\n",
    "    Promedio_total = (Magna + Premium + Diesel) / 3\n",
    "    return f\"\"\"Reporte Global:\n",
    "    Promedio Total: {Promedio_total}%\n",
    "    Magna: {Magna}%\n",
    "    Premium: {Premium}%\n",
    "    Diesel: {Diesel}% \n",
    "    \"\"\"\n",
    "print(Reporte(88, 76, 70))"
   ]
  },
  {
   "cell_type": "markdown",
   "metadata": {},
   "source": [
    "\n",
    "# Ejercicio 2: Trabajo con argumentos de palabra clave\n"
   ]
  },
  {
   "cell_type": "markdown",
   "metadata": {},
   "source": [
    "Ejercicio : Trabajar con argumentos de palabras clave en funciones"
   ]
  },
  {
   "cell_type": "markdown",
   "metadata": {},
   "source": [
    "En este ejercicio, construirás un informe de cohete que requiere varias piezas de información, como el tiempo hasta el destino, el combustible a la izquierda y el nombre del destino. Comienza por crear una función que creará un informe preciso de la misión:"
   ]
  },
  {
   "cell_type": "code",
   "execution_count": 11,
   "metadata": {},
   "outputs": [
    {
     "name": "stdout",
     "output_type": "stream",
     "text": [
      "\n",
      "    Mision a la Luna\n",
      "    Tiempo Estimado: 65 minutos\n",
      "    Total de combustible: 500000 gallones\n",
      "    \n"
     ]
    }
   ],
   "source": [
    "def Reporte_Mision(Hora_Previa, Hora_Salida, Destino, Premium, Magna):\n",
    "    return f\"\"\"\n",
    "    Mision a {Destino}\n",
    "    Tiempo Estimado: {Hora_Previa + Hora_Salida} minutos\n",
    "    Total de combustible: {Premium + Magna} gallones\n",
    "    \"\"\"\n",
    "\n",
    "print(Reporte_Mision(14, 51, \"la Luna\", 200000, 300000))"
   ]
  },
  {
   "cell_type": "markdown",
   "metadata": {},
   "source": [
    "\n",
    "\n",
    "La función es problemática porque no se puede adaptar para minutos adicionales o tanques adicionales de combustible. Hazlo más flexible permitiendo cualquier número de pasos basados en el tiempo y cualquier número de tanques. En lugar de usar *args y **kwargs, aprovecha el hecho de que puedes usar cualquier nombre que desees. Asegurate que la función sea más legible mediante el uso de nombres de variables que están asociados con las entradas, como *minutes y **fuel_reservoirs:\n"
   ]
  },
  {
   "cell_type": "code",
   "execution_count": 12,
   "metadata": {},
   "outputs": [
    {
     "name": "stdout",
     "output_type": "stream",
     "text": [
      "\n",
      "    Mision a la Luna\n",
      "    Tiempo Estimado: 76 minutos\n",
      "    Total de combustible: 500000\n",
      "    \n"
     ]
    }
   ],
   "source": [
    "def Reporte_Mision(Destino, *Minutos, **Tanque):\n",
    "    return f\"\"\"\n",
    "    Mision a {Destino}\n",
    "    Tiempo Estimado: {sum(Minutos)} minutos\n",
    "    Total de combustible: {sum(Tanque.values())}\n",
    "    \"\"\"\n",
    "\n",
    "print(Reporte_Mision(\"la Luna\", 10, 15, 51, main=300000, external=200000))"
   ]
  },
  {
   "cell_type": "markdown",
   "metadata": {},
   "source": [
    "\n",
    "\n",
    "Debido a que el combustible que queda en los tanques es específico de cada tanque, actualiza la función para usar el nombre de cada tanque en el informe:\n"
   ]
  },
  {
   "cell_type": "code",
   "execution_count": 13,
   "metadata": {},
   "outputs": [
    {
     "name": "stdout",
     "output_type": "stream",
     "text": [
      "\n",
      "    Mision a la Luna\n",
      "    Tiempo estimado: 74 minutes\n",
      "    Total de combustible: 500000\n",
      "    main tank --> 300000 gallons left\n",
      "external tank --> 200000 gallons left\n",
      "\n"
     ]
    }
   ],
   "source": [
    "def Reporte_Mision(Destino, *Minutos, **Tanque):\n",
    "    main_report = f\"\"\"\n",
    "    Mision a {Destino}\n",
    "    Tiempo estimado: {sum(Minutos)} minutes\n",
    "    Total de combustible: {sum(Tanque.values())}\n",
    "    \"\"\"\n",
    "    for tank_name, gallons in Tanque.items():\n",
    "        main_report += f\"{tank_name} tank --> {gallons} gallons left\\n\"\n",
    "    return main_report\n",
    "\n",
    "print(Reporte_Mision(\"la Luna\", 8, 11, 55, main=300000, external=200000))"
   ]
  }
 ],
 "metadata": {
  "interpreter": {
   "hash": "081837b0d89a1a11c7e12cfb777b4296fc9d5cdb4add819a1b66bd9acaab463f"
  },
  "kernelspec": {
   "display_name": "Python 3.10.2 64-bit",
   "name": "python3"
  },
  "language_info": {
   "codemirror_mode": {
    "name": "ipython",
    "version": 3
   },
   "file_extension": ".py",
   "mimetype": "text/x-python",
   "name": "python",
   "nbconvert_exporter": "python",
   "pygments_lexer": "ipython3",
   "version": "3.10.2"
  },
  "orig_nbformat": 4
 },
 "nbformat": 4,
 "nbformat_minor": 2
}
